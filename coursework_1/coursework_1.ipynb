{
 "cells": [
  {
   "cell_type": "markdown",
   "metadata": {},
   "source": [
    "# Coursework 1: Image Filtering\n",
    "\n",
    "In this coursework we will explore some basic image filters used in computer vision. The corresponding lectures are Lectures 3 and 4 on image filtering and edge detection.\n",
    "\n",
    "This coursework includes both coding questions as well as written ones. Please upload the notebook, which contains your code, results and answers as a pdf file onto Cate.\n",
    "\n",
    "Dependencies: If you work on a college computer in the Computing Lab, where Ubuntu 18.04 is installed by default, you can use the following virtual environment for your work, where relevant Python packages are already installed.\n",
    "\n",
    "`source /vol/bitbucket/wbai/virt/computer_vision_ubuntu18.04/bin/activate`\n",
    "\n",
    "Alternatively, you can use pip, pip3 or anaconda etc to install Python packages.\n",
    "\n",
    "**Note:** please read the both the text and code comment in this notebook to get an idea what you are supposed to implement."
   ]
  },
  {
   "cell_type": "code",
   "execution_count": null,
   "metadata": {},
   "outputs": [],
   "source": [
    "# Import libaries\n",
    "import imageio\n",
    "import numpy as np\n",
    "import matplotlib.pyplot as plt\n",
    "import noisy\n",
    "import scipy\n",
    "import scipy.signal\n",
    "import math\n",
    "import time"
   ]
  },
  {
   "cell_type": "markdown",
   "metadata": {},
   "source": [
    "# 1. Moving average filter (20 points)\n",
    "\n",
    "**Task:** Read a specific input image and add noise to the image. Design a moving average filter of kernel size 3x3, 5x5 and 9x9 respectively. Display the filtering results and comment on the results.\n",
    "\n",
    "Please design the filter by yourself. Then, 2D image filtering can be performed using the function `scipy.signal.convolve2d()`."
   ]
  },
  {
   "cell_type": "code",
   "execution_count": null,
   "metadata": {},
   "outputs": [],
   "source": [
    "# Read the image\n",
    "image = imageio.imread('boat.png')\n",
    "plt.imshow(image, cmap='gray')"
   ]
  },
  {
   "cell_type": "code",
   "execution_count": null,
   "metadata": {},
   "outputs": [],
   "source": [
    "# Corrupt the image with Gaussian noise\n",
    "image_noisy = noisy.noisy(image, 'gaussian')\n",
    "plt.imshow(image_noisy, cmap='gray')"
   ]
  },
  {
   "cell_type": "markdown",
   "metadata": {},
   "source": [
    "**Note:** from now on, please use the noisy image as the input for the filters.\n",
    "\n",
    "## 1.1 Filter the noisy image with a 3x3 moving average filter (5 points)"
   ]
  },
  {
   "cell_type": "code",
   "execution_count": null,
   "metadata": {},
   "outputs": [],
   "source": [
    "# Design the filter h\n",
    "h = []\n",
    "\n",
    "# Print the filter\n",
    "print(h)\n",
    "\n",
    "# Convolve the corrupted image with h using scipy.signal.convolve2d function\n",
    "image_filtered = scipy.signal.convolve2d(image_noisy, h, mode='same')\n",
    "plt.imshow(image_filtered, cmap='gray')"
   ]
  },
  {
   "cell_type": "markdown",
   "metadata": {},
   "source": [
    "## 1.2 Filter the noisy image with a 5x5 moving average filter (5 points)"
   ]
  },
  {
   "cell_type": "code",
   "execution_count": null,
   "metadata": {},
   "outputs": [],
   "source": [
    "# Design the filter h\n",
    "h = []\n",
    "\n",
    "# Print the filter\n",
    "print(h)\n",
    "\n",
    "# Convolve the corrupted image with h using scipy.signal.convolve2d function\n",
    "image_filtered = scipy.signal.convolve2d(image_noisy, h, mode='same')\n",
    "plt.imshow(image_filtered, cmap='gray')"
   ]
  },
  {
   "cell_type": "markdown",
   "metadata": {},
   "source": [
    "## 1.3 Filter the noisy image with a 9x9 moving average filter (5 points)"
   ]
  },
  {
   "cell_type": "code",
   "execution_count": null,
   "metadata": {},
   "outputs": [],
   "source": [
    "# Design the filter h\n",
    "h = []\n",
    "\n",
    "# Print the filter\n",
    "print(h)\n",
    "\n",
    "# Convolve the corrupted image with h using scipy.signal.convolve2d function\n",
    "image_filtered = scipy.signal.convolve2d(image_noisy, h, mode='same')\n",
    "plt.imshow(image_filtered, cmap='gray')"
   ]
  },
  {
   "cell_type": "markdown",
   "metadata": {},
   "source": [
    "## 1.4 Comment on the filtering results when different window sizes are used (5 points)"
   ]
  },
  {
   "cell_type": "markdown",
   "metadata": {},
   "source": [
    "Please put your comment here."
   ]
  },
  {
   "cell_type": "markdown",
   "metadata": {},
   "source": [
    "# 2. Edge detection (35 points)\n",
    "\n",
    "**Task:** Perform edge detection using Sobel filters, as well as Gaussian + Sobel filters. Display the Sobel magnitude images and comment."
   ]
  },
  {
   "cell_type": "markdown",
   "metadata": {},
   "source": [
    "## 2.1 Implement 3x3 Sobel filters and convolve with the noisy image (5 points)"
   ]
  },
  {
   "cell_type": "code",
   "execution_count": null,
   "metadata": {},
   "outputs": [],
   "source": [
    "# Design the Sobel filters\n",
    "h_sobel_x = []\n",
    "h_sobel_y = []\n",
    "\n",
    "# Print the filters\n",
    "print(h_sobel_x)\n",
    "print(h_sobel_y)\n",
    "\n",
    "# Sobel filtering\n",
    "sobel_x = scipy.signal.convolve2d(image_noisy, h_sobel_x, mode='same')\n",
    "sobel_y = scipy.signal.convolve2d(image_noisy, h_sobel_y, mode='same')\n",
    "\n",
    "# Calculate the gradient magnitude\n",
    "sobel_mag = np.sqrt(sobel_x * sobel_x + sobel_y * sobel_y)\n",
    "\n",
    "# Display the magnitude\n",
    "plt.imshow(sobel_mag, cmap='gray')"
   ]
  },
  {
   "cell_type": "markdown",
   "metadata": {},
   "source": [
    "## 2.2 Design a 2D Gaussian filter (5 points)"
   ]
  },
  {
   "cell_type": "code",
   "execution_count": null,
   "metadata": {},
   "outputs": [],
   "source": [
    "# Design the Gaussian filter\n",
    "def gaussian_filter_2d(sigma):\n",
    "    # sigma: the parameter sigma in the Gaussian kernel (unit: pixel)\n",
    "    #\n",
    "    # return: a 2D array for the Gaussian kernel\n",
    "    \n",
    "    # The filter radius is 3.5 times sigma\n",
    "    rad = int(math.ceil(3.5 * sigma))\n",
    "    sz = 2 * rad + 1\n",
    "    h = []\n",
    "    return h\n",
    "\n",
    "# Display the Gaussian filter when sigma = 3 pixel\n",
    "sigma = 3\n",
    "h = gaussian_filter_2d(sigma)\n",
    "plt.imshow(h)"
   ]
  },
  {
   "cell_type": "markdown",
   "metadata": {},
   "source": [
    "## 2.3 Perform Gaussian smoothing ($\\sigma$ = 3 pixels) before applying the Sobel filters (5 points)"
   ]
  },
  {
   "cell_type": "code",
   "execution_count": null,
   "metadata": {},
   "outputs": [],
   "source": [
    "# Perform Gaussian smoothing before Sobel filtering\n",
    "sigma = 3\n",
    "h = gaussian_filter_2d(sigma)\n",
    "image_smoothed = scipy.signal.convolve2d(image_noisy, h, mode='same')\n",
    "\n",
    "# Sobel filtering\n",
    "sobel_x = scipy.signal.convolve2d(image_smoothed, h_sobel_x, mode='same')\n",
    "sobel_y = scipy.signal.convolve2d(image_smoothed, h_sobel_y, mode='same')\n",
    "\n",
    "# Calculate the gradient magnitude\n",
    "sobel_mag = np.sqrt(sobel_x * sobel_x + sobel_y * sobel_y)\n",
    "\n",
    "# Display the magnitude\n",
    "plt.imshow(sobel_mag, cmap='gray')"
   ]
  },
  {
   "cell_type": "markdown",
   "metadata": {},
   "source": [
    "## 2.4 Perform Gaussian smoothing ($\\sigma$ = 7 pixels) before applying the Sobel filters. Evaluate the computational time for Gaussian smoothing. (5 points)"
   ]
  },
  {
   "cell_type": "code",
   "execution_count": null,
   "metadata": {},
   "outputs": [],
   "source": [
    "# Create the Gaussian filter\n",
    "sigma = 7\n",
    "h = gaussian_filter_2d(sigma)\n",
    "\n",
    "# Perform Gaussian smoothing\n",
    "start = time.time()\n",
    "image_smoothed = scipy.signal.convolve2d(image_noisy, h, mode='same')\n",
    "duration = time.time() - start\n",
    "print('It takes {0:.6f} seconds for performing Gaussian smoothing.'.format(duration))\n",
    "\n",
    "# Sobel filtering\n",
    "sobel_x = scipy.signal.convolve2d(image_smoothed, h_sobel_x, mode='same')\n",
    "sobel_y = scipy.signal.convolve2d(image_smoothed, h_sobel_y, mode='same')\n",
    "\n",
    "# Calculate the gradient magnitude\n",
    "sobel_mag = np.sqrt(sobel_x * sobel_x + sobel_y * sobel_y)\n",
    "\n",
    "# Display the magnitude\n",
    "plt.imshow(sobel_mag, cmap='gray')"
   ]
  },
  {
   "cell_type": "markdown",
   "metadata": {},
   "source": [
    "## 2.5 Design 1D Gaussian filters along x-axis and y-axis respectively. (5 points)"
   ]
  },
  {
   "cell_type": "code",
   "execution_count": null,
   "metadata": {},
   "outputs": [],
   "source": [
    "# Design the Gaussian filter\n",
    "def gaussian_filter_1d(sigma):\n",
    "    # sigma: the parameter sigma in the Gaussian kernel (unit: pixel)\n",
    "    #\n",
    "    # return: a 1D array for the Gaussian kernel\n",
    "    \n",
    "    # The filter radius is 3.5 times sigma\n",
    "    rad = int(math.ceil(3.5 * sigma))\n",
    "    sz = 2 * rad + 1\n",
    "    h = []\n",
    "    return h\n",
    "\n",
    "# Display the Gaussian filters when sigma = 7 pixel\n",
    "sigma = 7\n",
    "\n",
    "# The Gaussian filter along x-axis. Its shape is (1, sz).\n",
    "h_x = gaussian_filter_1d(sigma)\n",
    "h_x = np.expand_dims(h_x, axis=0)\n",
    "\n",
    "# The Gaussian filter along y-axis. Its shape is (sz, 1).\n",
    "h_y = gaussian_filter_1d(sigma)\n",
    "h_y = np.expand_dims(h_y, axis=-1)\n",
    "\n",
    "# Display the filters\n",
    "plt.subplot(1, 2, 1)\n",
    "plt.imshow(h_x)\n",
    "plt.subplot(1, 2, 2)\n",
    "plt.imshow(h_y)"
   ]
  },
  {
   "cell_type": "markdown",
   "metadata": {},
   "source": [
    "## 2.6 Perform Gaussian smoothing (sigma = 7 pixels) as two separable filters, then apply the Sobel filters. Evaluate the computational time for separable Gaussian filtering. (5 points)"
   ]
  },
  {
   "cell_type": "code",
   "execution_count": null,
   "metadata": {},
   "outputs": [],
   "source": [
    "# Perform separable Gaussian smoothing before Sobel filtering\n",
    "start = time.time()\n",
    "image_smoothed = scipy.signal.convolve2d(image_noisy, h_x, mode='same')\n",
    "image_smoothed = scipy.signal.convolve2d(image_smoothed, h_y, mode='same')\n",
    "duration = time.time() - start\n",
    "print('It takes {0:.6f} seconds for performing Gaussian smoothing.'.format(duration))\n",
    "\n",
    "# Sobel filtering\n",
    "sobel_x = scipy.signal.convolve2d(image_smoothed, h_sobel_x, mode='same')\n",
    "sobel_y = scipy.signal.convolve2d(image_smoothed, h_sobel_y, mode='same')\n",
    "\n",
    "# Calculate the gradient magnitude\n",
    "sobel_mag = np.sqrt(sobel_x * sobel_x + sobel_y * sobel_y)\n",
    "\n",
    "# Display the magnitude\n",
    "plt.imshow(sobel_mag, cmap='gray')"
   ]
  },
  {
   "cell_type": "markdown",
   "metadata": {},
   "source": [
    "## 2.7 Comment on the filtering results (5 points)"
   ]
  },
  {
   "cell_type": "markdown",
   "metadata": {},
   "source": [
    "Please put your comments here."
   ]
  },
  {
   "cell_type": "markdown",
   "metadata": {},
   "source": [
    "# 3. Laplacian filter (15 points)\n",
    "\n",
    "**Task:** Perform Laplacian filtering and Laplacian of Gaussian filtering. Display the results and comment.\n",
    "\n",
    "## 3.1 Implement a 3x3 Laplacian filter (5 points)"
   ]
  },
  {
   "cell_type": "code",
   "execution_count": null,
   "metadata": {},
   "outputs": [],
   "source": [
    "# Design the filter\n",
    "h = []\n",
    "\n",
    "# Laplacian filtering\n",
    "lap = scipy.signal.convolve2d(image_noisy, h, mode='same')\n",
    "\n",
    "# Display the results\n",
    "plt.imshow(lap, cmap='gray')"
   ]
  },
  {
   "cell_type": "markdown",
   "metadata": {},
   "source": [
    "## 3.2 Implement the Laplacian of Gaussian filter ($\\sigma$ = 3 pixel) (5 points)"
   ]
  },
  {
   "cell_type": "code",
   "execution_count": null,
   "metadata": {},
   "outputs": [],
   "source": [
    "# Design the Gaussian filter\n",
    "sigma = 3\n",
    "\n",
    "# The Gaussian filter along x-axis\n",
    "h_x = gaussian_filter_1d(sigma)\n",
    "h_x = np.expand_dims(h_x, axis=0)\n",
    "\n",
    "# The Gaussian filter along y-axis\n",
    "h_y = gaussian_filter_1d(sigma)\n",
    "h_y = np.expand_dims(h_y, axis=-1)\n",
    "\n",
    "# Gaussian smoothing\n",
    "image_smoothed = scipy.signal.convolve2d(image_noisy, h_x, mode='same')\n",
    "image_smoothed = scipy.signal.convolve2d(image_smoothed, h_y, mode='same')\n",
    "\n",
    "# Design the Laplacian filter\n",
    "h = []\n",
    "\n",
    "# Laplacian filtering\n",
    "lap = scipy.signal.convolve2d(image_smoothed, h, mode='same')\n",
    "plt.imshow(lap, cmap='gray')"
   ]
  },
  {
   "cell_type": "markdown",
   "metadata": {},
   "source": [
    "## 3.3 Comments on the filtering results (5 points)"
   ]
  },
  {
   "cell_type": "markdown",
   "metadata": {},
   "source": [
    "Please put your comments here."
   ]
  },
  {
   "cell_type": "markdown",
   "metadata": {},
   "source": [
    "# 4. Survey: How long does it take you to complete the coursework?"
   ]
  },
  {
   "cell_type": "markdown",
   "metadata": {},
   "source": [
    "Put your answer here."
   ]
  },
  {
   "cell_type": "code",
   "execution_count": null,
   "metadata": {},
   "outputs": [],
   "source": []
  }
 ],
 "metadata": {
  "kernelspec": {
   "display_name": "Python 3",
   "language": "python",
   "name": "python3"
  },
  "language_info": {
   "codemirror_mode": {
    "name": "ipython",
    "version": 3
   },
   "file_extension": ".py",
   "mimetype": "text/x-python",
   "name": "python",
   "nbconvert_exporter": "python",
   "pygments_lexer": "ipython3",
   "version": "3.6.6"
  }
 },
 "nbformat": 4,
 "nbformat_minor": 2
}
